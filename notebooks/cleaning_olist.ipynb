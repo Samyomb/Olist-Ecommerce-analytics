{
  "nbformat": 4,
  "nbformat_minor": 0,
  "metadata": {
    "colab": {
      "provenance": [],
      "authorship_tag": "ABX9TyMnJDvPanyb04z2VBBYhxNZ",
      "include_colab_link": true
    },
    "kernelspec": {
      "name": "python3",
      "display_name": "Python 3"
    },
    "language_info": {
      "name": "python"
    }
  },
  "cells": [
    {
      "cell_type": "markdown",
      "metadata": {
        "id": "view-in-github",
        "colab_type": "text"
      },
      "source": [
        "<a href=\"https://colab.research.google.com/github/Samyomb/Olist-Ecommerce-analytics/blob/main/notebooks/cleaning_olist.ipynb\" target=\"_parent\"><img src=\"https://colab.research.google.com/assets/colab-badge.svg\" alt=\"Open In Colab\"/></a>"
      ]
    },
    {
      "cell_type": "code",
      "execution_count": null,
      "metadata": {
        "id": "1-cixaw9_882"
      },
      "outputs": [],
      "source": [
        "import pandas as pd\n",
        "\n",
        "df_customers = pd.read_csv('olist_customers_dataset.csv')\n",
        "df_geolocation = pd.read_csv('olist_geolocation_dataset.csv')\n",
        "df_order_items = pd.read_csv('olist_order_items_dataset.csv')\n",
        "df_order_payments = pd.read_csv('olist_order_payments_dataset.csv')\n",
        "df_order_reviews = pd.read_csv('olist_order_reviews_dataset.csv')\n",
        "df_orders = pd.read_csv('olist_orders_dataset.csv')\n",
        "df_products = pd.read_csv('olist_products_dataset.csv')\n",
        "df_sellers = pd.read_csv('olist_sellers_dataset.csv')\n",
        "df_product_category = pd.read_csv('product_category_name_translation.csv')"
      ]
    },
    {
      "cell_type": "code",
      "source": [
        "df_geolocation.isnull().sum()"
      ],
      "metadata": {
        "colab": {
          "base_uri": "https://localhost:8080/",
          "height": 240
        },
        "id": "f47_pYOSAeHR",
        "outputId": "5602db3c-4ecb-4d04-e156-49f52c46cddf"
      },
      "execution_count": null,
      "outputs": [
        {
          "output_type": "execute_result",
          "data": {
            "text/plain": [
              "geolocation_zip_code_prefix    0\n",
              "geolocation_lat                0\n",
              "geolocation_lng                0\n",
              "geolocation_city               0\n",
              "geolocation_state              0\n",
              "dtype: int64"
            ],
            "text/html": [
              "<div>\n",
              "<style scoped>\n",
              "    .dataframe tbody tr th:only-of-type {\n",
              "        vertical-align: middle;\n",
              "    }\n",
              "\n",
              "    .dataframe tbody tr th {\n",
              "        vertical-align: top;\n",
              "    }\n",
              "\n",
              "    .dataframe thead th {\n",
              "        text-align: right;\n",
              "    }\n",
              "</style>\n",
              "<table border=\"1\" class=\"dataframe\">\n",
              "  <thead>\n",
              "    <tr style=\"text-align: right;\">\n",
              "      <th></th>\n",
              "      <th>0</th>\n",
              "    </tr>\n",
              "  </thead>\n",
              "  <tbody>\n",
              "    <tr>\n",
              "      <th>geolocation_zip_code_prefix</th>\n",
              "      <td>0</td>\n",
              "    </tr>\n",
              "    <tr>\n",
              "      <th>geolocation_lat</th>\n",
              "      <td>0</td>\n",
              "    </tr>\n",
              "    <tr>\n",
              "      <th>geolocation_lng</th>\n",
              "      <td>0</td>\n",
              "    </tr>\n",
              "    <tr>\n",
              "      <th>geolocation_city</th>\n",
              "      <td>0</td>\n",
              "    </tr>\n",
              "    <tr>\n",
              "      <th>geolocation_state</th>\n",
              "      <td>0</td>\n",
              "    </tr>\n",
              "  </tbody>\n",
              "</table>\n",
              "</div><br><label><b>dtype:</b> int64</label>"
            ]
          },
          "metadata": {},
          "execution_count": 32
        }
      ]
    },
    {
      "cell_type": "code",
      "source": [
        "df_geolocation.value_counts()"
      ],
      "metadata": {
        "colab": {
          "base_uri": "https://localhost:8080/",
          "height": 489
        },
        "id": "T9QiHxqgCusU",
        "outputId": "205f3d57-8967-46bc-f8c4-26702efaff11"
      },
      "execution_count": null,
      "outputs": [
        {
          "output_type": "execute_result",
          "data": {
            "text/plain": [
              "geolocation_zip_code_prefix  geolocation_lat  geolocation_lng  geolocation_city  geolocation_state\n",
              "88220                        -27.102099       -48.629613       itapema           SC                   314\n",
              "6414                         -23.495901       -46.874687       barueri           SP                   189\n",
              "                             -23.490618       -46.869004       barueri           SP                   127\n",
              "5145                         -23.506049       -46.717377       sao paulo         SP                   126\n",
              "22620                        -23.005514       -43.375964       rio de janeiro    RJ                   102\n",
              "                                                                                                     ... \n",
              "18150                        -23.660702       -47.219962       ibiúna            SP                     1\n",
              "                             -23.660570       -47.216268       ibiuna            SP                     1\n",
              "                             -23.660564       -47.223828       ibiuna            SP                     1\n",
              "                                                               ibiúna            SP                     1\n",
              "                             -23.661468       -47.231998       ibiuna            SP                     1\n",
              "Name: count, Length: 738332, dtype: int64"
            ],
            "text/html": [
              "<div>\n",
              "<style scoped>\n",
              "    .dataframe tbody tr th:only-of-type {\n",
              "        vertical-align: middle;\n",
              "    }\n",
              "\n",
              "    .dataframe tbody tr th {\n",
              "        vertical-align: top;\n",
              "    }\n",
              "\n",
              "    .dataframe thead th {\n",
              "        text-align: right;\n",
              "    }\n",
              "</style>\n",
              "<table border=\"1\" class=\"dataframe\">\n",
              "  <thead>\n",
              "    <tr style=\"text-align: right;\">\n",
              "      <th></th>\n",
              "      <th></th>\n",
              "      <th></th>\n",
              "      <th></th>\n",
              "      <th></th>\n",
              "      <th>count</th>\n",
              "    </tr>\n",
              "    <tr>\n",
              "      <th>geolocation_zip_code_prefix</th>\n",
              "      <th>geolocation_lat</th>\n",
              "      <th>geolocation_lng</th>\n",
              "      <th>geolocation_city</th>\n",
              "      <th>geolocation_state</th>\n",
              "      <th></th>\n",
              "    </tr>\n",
              "  </thead>\n",
              "  <tbody>\n",
              "    <tr>\n",
              "      <th>88220</th>\n",
              "      <th>-27.102099</th>\n",
              "      <th>-48.629613</th>\n",
              "      <th>itapema</th>\n",
              "      <th>SC</th>\n",
              "      <td>314</td>\n",
              "    </tr>\n",
              "    <tr>\n",
              "      <th rowspan=\"2\" valign=\"top\">6414</th>\n",
              "      <th>-23.495901</th>\n",
              "      <th>-46.874687</th>\n",
              "      <th>barueri</th>\n",
              "      <th>SP</th>\n",
              "      <td>189</td>\n",
              "    </tr>\n",
              "    <tr>\n",
              "      <th>-23.490618</th>\n",
              "      <th>-46.869004</th>\n",
              "      <th>barueri</th>\n",
              "      <th>SP</th>\n",
              "      <td>127</td>\n",
              "    </tr>\n",
              "    <tr>\n",
              "      <th>5145</th>\n",
              "      <th>-23.506049</th>\n",
              "      <th>-46.717377</th>\n",
              "      <th>sao paulo</th>\n",
              "      <th>SP</th>\n",
              "      <td>126</td>\n",
              "    </tr>\n",
              "    <tr>\n",
              "      <th>22620</th>\n",
              "      <th>-23.005514</th>\n",
              "      <th>-43.375964</th>\n",
              "      <th>rio de janeiro</th>\n",
              "      <th>RJ</th>\n",
              "      <td>102</td>\n",
              "    </tr>\n",
              "    <tr>\n",
              "      <th>...</th>\n",
              "      <th>...</th>\n",
              "      <th>...</th>\n",
              "      <th>...</th>\n",
              "      <th>...</th>\n",
              "      <td>...</td>\n",
              "    </tr>\n",
              "    <tr>\n",
              "      <th rowspan=\"5\" valign=\"top\">18150</th>\n",
              "      <th>-23.660702</th>\n",
              "      <th>-47.219962</th>\n",
              "      <th>ibiúna</th>\n",
              "      <th>SP</th>\n",
              "      <td>1</td>\n",
              "    </tr>\n",
              "    <tr>\n",
              "      <th>-23.660570</th>\n",
              "      <th>-47.216268</th>\n",
              "      <th>ibiuna</th>\n",
              "      <th>SP</th>\n",
              "      <td>1</td>\n",
              "    </tr>\n",
              "    <tr>\n",
              "      <th rowspan=\"2\" valign=\"top\">-23.660564</th>\n",
              "      <th rowspan=\"2\" valign=\"top\">-47.223828</th>\n",
              "      <th>ibiuna</th>\n",
              "      <th>SP</th>\n",
              "      <td>1</td>\n",
              "    </tr>\n",
              "    <tr>\n",
              "      <th>ibiúna</th>\n",
              "      <th>SP</th>\n",
              "      <td>1</td>\n",
              "    </tr>\n",
              "    <tr>\n",
              "      <th>-23.661468</th>\n",
              "      <th>-47.231998</th>\n",
              "      <th>ibiuna</th>\n",
              "      <th>SP</th>\n",
              "      <td>1</td>\n",
              "    </tr>\n",
              "  </tbody>\n",
              "</table>\n",
              "<p>738332 rows × 1 columns</p>\n",
              "</div><br><label><b>dtype:</b> int64</label>"
            ]
          },
          "metadata": {},
          "execution_count": 33
        }
      ]
    },
    {
      "cell_type": "code",
      "source": [
        "df_geolocation = df_geolocation.drop_duplicates()"
      ],
      "metadata": {
        "id": "i2xMFOAtBP78"
      },
      "execution_count": null,
      "outputs": []
    },
    {
      "cell_type": "code",
      "source": [
        "df_geolocation.value_counts()"
      ],
      "metadata": {
        "colab": {
          "base_uri": "https://localhost:8080/",
          "height": 489
        },
        "id": "nwAj_3V5Cj5s",
        "outputId": "ee8e5f98-b138-4885-acab-8c71bdddd8c6"
      },
      "execution_count": null,
      "outputs": [
        {
          "output_type": "execute_result",
          "data": {
            "text/plain": [
              "geolocation_zip_code_prefix  geolocation_lat  geolocation_lng  geolocation_city  geolocation_state\n",
              "99990                        -28.329472       -51.769109       muliterno         RS                   1\n",
              "1001                         -23.551427       -46.634074       sao paulo         SP                   1\n",
              "                             -23.551337       -46.634027       sao paulo         SP                   1\n",
              "                             -23.550642       -46.634410       sao paulo         SP                   1\n",
              "                             -23.550498       -46.634338       sao paulo         SP                   1\n",
              "                                                                                                     ..\n",
              "1002                         -23.544641       -46.633180       são paulo         SP                   1\n",
              "                             -23.547417       -46.636361       sao paulo         SP                   1\n",
              "                             -23.548137       -46.635905       sao paulo         SP                   1\n",
              "                             -23.548318       -46.635421       sao paulo         SP                   1\n",
              "                             -23.548551       -46.635072       sao paulo         SP                   1\n",
              "Name: count, Length: 738332, dtype: int64"
            ],
            "text/html": [
              "<div>\n",
              "<style scoped>\n",
              "    .dataframe tbody tr th:only-of-type {\n",
              "        vertical-align: middle;\n",
              "    }\n",
              "\n",
              "    .dataframe tbody tr th {\n",
              "        vertical-align: top;\n",
              "    }\n",
              "\n",
              "    .dataframe thead th {\n",
              "        text-align: right;\n",
              "    }\n",
              "</style>\n",
              "<table border=\"1\" class=\"dataframe\">\n",
              "  <thead>\n",
              "    <tr style=\"text-align: right;\">\n",
              "      <th></th>\n",
              "      <th></th>\n",
              "      <th></th>\n",
              "      <th></th>\n",
              "      <th></th>\n",
              "      <th>count</th>\n",
              "    </tr>\n",
              "    <tr>\n",
              "      <th>geolocation_zip_code_prefix</th>\n",
              "      <th>geolocation_lat</th>\n",
              "      <th>geolocation_lng</th>\n",
              "      <th>geolocation_city</th>\n",
              "      <th>geolocation_state</th>\n",
              "      <th></th>\n",
              "    </tr>\n",
              "  </thead>\n",
              "  <tbody>\n",
              "    <tr>\n",
              "      <th>99990</th>\n",
              "      <th>-28.329472</th>\n",
              "      <th>-51.769109</th>\n",
              "      <th>muliterno</th>\n",
              "      <th>RS</th>\n",
              "      <td>1</td>\n",
              "    </tr>\n",
              "    <tr>\n",
              "      <th rowspan=\"4\" valign=\"top\">1001</th>\n",
              "      <th>-23.551427</th>\n",
              "      <th>-46.634074</th>\n",
              "      <th>sao paulo</th>\n",
              "      <th>SP</th>\n",
              "      <td>1</td>\n",
              "    </tr>\n",
              "    <tr>\n",
              "      <th>-23.551337</th>\n",
              "      <th>-46.634027</th>\n",
              "      <th>sao paulo</th>\n",
              "      <th>SP</th>\n",
              "      <td>1</td>\n",
              "    </tr>\n",
              "    <tr>\n",
              "      <th>-23.550642</th>\n",
              "      <th>-46.634410</th>\n",
              "      <th>sao paulo</th>\n",
              "      <th>SP</th>\n",
              "      <td>1</td>\n",
              "    </tr>\n",
              "    <tr>\n",
              "      <th>-23.550498</th>\n",
              "      <th>-46.634338</th>\n",
              "      <th>sao paulo</th>\n",
              "      <th>SP</th>\n",
              "      <td>1</td>\n",
              "    </tr>\n",
              "    <tr>\n",
              "      <th>...</th>\n",
              "      <th>...</th>\n",
              "      <th>...</th>\n",
              "      <th>...</th>\n",
              "      <th>...</th>\n",
              "      <td>...</td>\n",
              "    </tr>\n",
              "    <tr>\n",
              "      <th rowspan=\"5\" valign=\"top\">1002</th>\n",
              "      <th>-23.544641</th>\n",
              "      <th>-46.633180</th>\n",
              "      <th>são paulo</th>\n",
              "      <th>SP</th>\n",
              "      <td>1</td>\n",
              "    </tr>\n",
              "    <tr>\n",
              "      <th>-23.547417</th>\n",
              "      <th>-46.636361</th>\n",
              "      <th>sao paulo</th>\n",
              "      <th>SP</th>\n",
              "      <td>1</td>\n",
              "    </tr>\n",
              "    <tr>\n",
              "      <th>-23.548137</th>\n",
              "      <th>-46.635905</th>\n",
              "      <th>sao paulo</th>\n",
              "      <th>SP</th>\n",
              "      <td>1</td>\n",
              "    </tr>\n",
              "    <tr>\n",
              "      <th>-23.548318</th>\n",
              "      <th>-46.635421</th>\n",
              "      <th>sao paulo</th>\n",
              "      <th>SP</th>\n",
              "      <td>1</td>\n",
              "    </tr>\n",
              "    <tr>\n",
              "      <th>-23.548551</th>\n",
              "      <th>-46.635072</th>\n",
              "      <th>sao paulo</th>\n",
              "      <th>SP</th>\n",
              "      <td>1</td>\n",
              "    </tr>\n",
              "  </tbody>\n",
              "</table>\n",
              "<p>738332 rows × 1 columns</p>\n",
              "</div><br><label><b>dtype:</b> int64</label>"
            ]
          },
          "metadata": {},
          "execution_count": 35
        }
      ]
    },
    {
      "cell_type": "code",
      "source": [
        "df_order_reviews = df_order_reviews.drop(columns='review_comment_title')"
      ],
      "metadata": {
        "id": "KljurxsvDFt2"
      },
      "execution_count": null,
      "outputs": []
    },
    {
      "cell_type": "code",
      "source": [
        "df_products = df_products.drop(columns=['product_name_lenght','product_description_lenght','product_photos_qty','product_weight_g','product_length_cm','product_height_cm','product_width_cm'])"
      ],
      "metadata": {
        "id": "WSoro5MHD3s7"
      },
      "execution_count": null,
      "outputs": []
    },
    {
      "cell_type": "code",
      "source": [
        "df_products_category = pd.merge(df_products, df_product_category, on='product_category_name')"
      ],
      "metadata": {
        "id": "_yfIDF89FOsB"
      },
      "execution_count": null,
      "outputs": []
    },
    {
      "cell_type": "code",
      "source": [],
      "metadata": {
        "colab": {
          "base_uri": "https://localhost:8080/",
          "height": 209
        },
        "id": "hc-avLGIFVSw",
        "outputId": "c78a7c85-2d5f-4099-c639-dd2c2c0f291c"
      },
      "execution_count": null,
      "outputs": [
        {
          "output_type": "execute_result",
          "data": {
            "text/plain": [
              "seller_id                 0\n",
              "seller_zip_code_prefix    0\n",
              "seller_city               0\n",
              "seller_state              0\n",
              "dtype: int64"
            ],
            "text/html": [
              "<div>\n",
              "<style scoped>\n",
              "    .dataframe tbody tr th:only-of-type {\n",
              "        vertical-align: middle;\n",
              "    }\n",
              "\n",
              "    .dataframe tbody tr th {\n",
              "        vertical-align: top;\n",
              "    }\n",
              "\n",
              "    .dataframe thead th {\n",
              "        text-align: right;\n",
              "    }\n",
              "</style>\n",
              "<table border=\"1\" class=\"dataframe\">\n",
              "  <thead>\n",
              "    <tr style=\"text-align: right;\">\n",
              "      <th></th>\n",
              "      <th>0</th>\n",
              "    </tr>\n",
              "  </thead>\n",
              "  <tbody>\n",
              "    <tr>\n",
              "      <th>seller_id</th>\n",
              "      <td>0</td>\n",
              "    </tr>\n",
              "    <tr>\n",
              "      <th>seller_zip_code_prefix</th>\n",
              "      <td>0</td>\n",
              "    </tr>\n",
              "    <tr>\n",
              "      <th>seller_city</th>\n",
              "      <td>0</td>\n",
              "    </tr>\n",
              "    <tr>\n",
              "      <th>seller_state</th>\n",
              "      <td>0</td>\n",
              "    </tr>\n",
              "  </tbody>\n",
              "</table>\n",
              "</div><br><label><b>dtype:</b> int64</label>"
            ]
          },
          "metadata": {},
          "execution_count": 62
        }
      ]
    },
    {
      "cell_type": "code",
      "source": [
        "df_products_category = df_products_category.drop(columns=['product_category_name'])"
      ],
      "metadata": {
        "id": "OYz5dZ85F5E4"
      },
      "execution_count": null,
      "outputs": []
    },
    {
      "cell_type": "code",
      "source": [
        "df_customers.to_csv('customers.csv', index=False)"
      ],
      "metadata": {
        "id": "PpOtEsMFGFbE"
      },
      "execution_count": null,
      "outputs": []
    },
    {
      "cell_type": "code",
      "source": [
        "df_geolocation.to_csv('geolocation.csv', index=False)\n",
        "df_order_items.to_csv('order_items.csv', index=False)\n",
        "df_order_payments.to_csv('order_payments.csv', index=False)\n",
        "df_order_reviews.to_csv('order_reviews.csv', index=False)\n",
        "df_orders.to_csv('orders.csv', index=False)\n",
        "df_products_category.to_csv('products.csv', index=False)\n",
        "df_sellers.to_csv('sellers.csv', index=False)"
      ],
      "metadata": {
        "id": "DDvRqYaWIFZB"
      },
      "execution_count": null,
      "outputs": []
    },
    {
      "cell_type": "code",
      "source": [],
      "metadata": {
        "id": "dDekLKNjIeoc"
      },
      "execution_count": null,
      "outputs": []
    }
  ]
}